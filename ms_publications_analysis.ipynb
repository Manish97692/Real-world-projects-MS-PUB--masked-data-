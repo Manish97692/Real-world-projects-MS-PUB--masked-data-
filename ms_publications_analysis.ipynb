{
 "cells": [
  {
   "cell_type": "code",
   "execution_count": 3,
   "id": "7ed2ccb9-6903-4203-8cee-ae36dc9f06cd",
   "metadata": {},
   "outputs": [
    {
     "name": "stdout",
     "output_type": "stream",
     "text": [
      "Requirement already satisfied: pandas in c:\\users\\hp\\appdata\\local\\programs\\python\\python313\\lib\\site-packages (2.3.1)\n",
      "Requirement already satisfied: numpy in c:\\users\\hp\\appdata\\local\\programs\\python\\python313\\lib\\site-packages (2.2.5)\n",
      "Requirement already satisfied: matplotlib in c:\\users\\hp\\appdata\\local\\programs\\python\\python313\\lib\\site-packages (3.10.3)\n",
      "Requirement already satisfied: seaborn in c:\\users\\hp\\appdata\\local\\programs\\python\\python313\\lib\\site-packages (0.13.2)\n",
      "Requirement already satisfied: openpyxl in c:\\users\\hp\\appdata\\local\\programs\\python\\python313\\lib\\site-packages (3.1.5)\n",
      "Requirement already satisfied: python-dateutil>=2.8.2 in c:\\users\\hp\\appdata\\local\\programs\\python\\python313\\lib\\site-packages (from pandas) (2.9.0.post0)\n",
      "Requirement already satisfied: pytz>=2020.1 in c:\\users\\hp\\appdata\\local\\programs\\python\\python313\\lib\\site-packages (from pandas) (2025.2)\n",
      "Requirement already satisfied: tzdata>=2022.7 in c:\\users\\hp\\appdata\\local\\programs\\python\\python313\\lib\\site-packages (from pandas) (2025.2)\n",
      "Requirement already satisfied: contourpy>=1.0.1 in c:\\users\\hp\\appdata\\local\\programs\\python\\python313\\lib\\site-packages (from matplotlib) (1.3.2)\n",
      "Requirement already satisfied: cycler>=0.10 in c:\\users\\hp\\appdata\\local\\programs\\python\\python313\\lib\\site-packages (from matplotlib) (0.12.1)\n",
      "Requirement already satisfied: fonttools>=4.22.0 in c:\\users\\hp\\appdata\\local\\programs\\python\\python313\\lib\\site-packages (from matplotlib) (4.58.5)\n",
      "Requirement already satisfied: kiwisolver>=1.3.1 in c:\\users\\hp\\appdata\\local\\programs\\python\\python313\\lib\\site-packages (from matplotlib) (1.4.8)\n",
      "Requirement already satisfied: packaging>=20.0 in c:\\users\\hp\\appdata\\local\\programs\\python\\python313\\lib\\site-packages (from matplotlib) (24.2)\n",
      "Requirement already satisfied: pillow>=8 in c:\\users\\hp\\appdata\\local\\programs\\python\\python313\\lib\\site-packages (from matplotlib) (11.3.0)\n",
      "Requirement already satisfied: pyparsing>=2.3.1 in c:\\users\\hp\\appdata\\local\\programs\\python\\python313\\lib\\site-packages (from matplotlib) (3.2.3)\n",
      "Requirement already satisfied: et-xmlfile in c:\\users\\hp\\appdata\\local\\programs\\python\\python313\\lib\\site-packages (from openpyxl) (2.0.0)\n",
      "Requirement already satisfied: six>=1.5 in c:\\users\\hp\\appdata\\local\\programs\\python\\python313\\lib\\site-packages (from python-dateutil>=2.8.2->pandas) (1.17.0)\n"
     ]
    },
    {
     "name": "stderr",
     "output_type": "stream",
     "text": [
      "\n",
      "[notice] A new release of pip is available: 25.0.1 -> 25.1.1\n",
      "[notice] To update, run: python.exe -m pip install --upgrade pip\n"
     ]
    }
   ],
   "source": [
    "!pip install pandas numpy matplotlib seaborn openpyxl\n",
    "# this is used once if working in a new pc\n"
   ]
  },
  {
   "cell_type": "code",
   "execution_count": 2,
   "id": "5fb89094-e06a-4f33-adcd-fcaf72546aaf",
   "metadata": {},
   "outputs": [],
   "source": [
    "import pandas as pd\n",
    "import numpy as np\n",
    "import matplotlib.pyplot as plt\n",
    "import seaborn as sns\n",
    "\n",
    "%matplotlib inline\n"
   ]
  },
  {
   "cell_type": "code",
   "execution_count": 3,
   "id": "4e1efa0e-5baa-4258-88a8-bb63451f561f",
   "metadata": {},
   "outputs": [
    {
     "data": {
      "text/html": [
       "<div>\n",
       "<style scoped>\n",
       "    .dataframe tbody tr th:only-of-type {\n",
       "        vertical-align: middle;\n",
       "    }\n",
       "\n",
       "    .dataframe tbody tr th {\n",
       "        vertical-align: top;\n",
       "    }\n",
       "\n",
       "    .dataframe thead th {\n",
       "        text-align: right;\n",
       "    }\n",
       "</style>\n",
       "<table border=\"1\" class=\"dataframe\">\n",
       "  <thead>\n",
       "    <tr style=\"text-align: right;\">\n",
       "      <th></th>\n",
       "      <th>book_id</th>\n",
       "      <th>title</th>\n",
       "      <th>subject</th>\n",
       "      <th>course</th>\n",
       "      <th>price</th>\n",
       "    </tr>\n",
       "  </thead>\n",
       "  <tbody>\n",
       "    <tr>\n",
       "      <th>0</th>\n",
       "      <td>101</td>\n",
       "      <td>Economics Basics</td>\n",
       "      <td>Economics</td>\n",
       "      <td>BA Prog</td>\n",
       "      <td>250</td>\n",
       "    </tr>\n",
       "    <tr>\n",
       "      <th>1</th>\n",
       "      <td>102</td>\n",
       "      <td>Advanced Physics</td>\n",
       "      <td>Physics</td>\n",
       "      <td>BSc Physics</td>\n",
       "      <td>400</td>\n",
       "    </tr>\n",
       "    <tr>\n",
       "      <th>2</th>\n",
       "      <td>103</td>\n",
       "      <td>Political Science</td>\n",
       "      <td>Pol Science</td>\n",
       "      <td>BA Pol Sci</td>\n",
       "      <td>300</td>\n",
       "    </tr>\n",
       "    <tr>\n",
       "      <th>3</th>\n",
       "      <td>104</td>\n",
       "      <td>Mathematics Core</td>\n",
       "      <td>Mathematics</td>\n",
       "      <td>BSc Maths</td>\n",
       "      <td>350</td>\n",
       "    </tr>\n",
       "    <tr>\n",
       "      <th>4</th>\n",
       "      <td>105</td>\n",
       "      <td>English Fluency</td>\n",
       "      <td>English</td>\n",
       "      <td>BA Prog</td>\n",
       "      <td>200</td>\n",
       "    </tr>\n",
       "  </tbody>\n",
       "</table>\n",
       "</div>"
      ],
      "text/plain": [
       "   book_id              title      subject       course  price\n",
       "0      101   Economics Basics    Economics      BA Prog    250\n",
       "1      102   Advanced Physics      Physics  BSc Physics    400\n",
       "2      103  Political Science  Pol Science   BA Pol Sci    300\n",
       "3      104   Mathematics Core  Mathematics    BSc Maths    350\n",
       "4      105    English Fluency      English      BA Prog    200"
      ]
     },
     "execution_count": 3,
     "metadata": {},
     "output_type": "execute_result"
    }
   ],
   "source": [
    "# Creating the Books dataset\n",
    "books_data = pd.DataFrame({\n",
    "    'book_id': [101, 102, 103, 104, 105],\n",
    "    'title': ['Economics Basics', 'Advanced Physics', 'Political Science', 'Mathematics Core', 'English Fluency'],\n",
    "    'subject': ['Economics', 'Physics', 'Pol Science', 'Mathematics', 'English'],\n",
    "    'course': ['BA Prog', 'BSc Physics', 'BA Pol Sci', 'BSc Maths', 'BA Prog'],\n",
    "    'price': [250, 400, 300, 350, 200]\n",
    "})\n",
    "\n",
    "# Display the dataset\n",
    "books_data\n",
    "# this command simply represents complete frmated table\n"
   ]
  },
  {
   "cell_type": "code",
   "execution_count": 4,
   "id": "2c5ab089-50eb-40a1-9c37-09c3316f3b10",
   "metadata": {},
   "outputs": [],
   "source": [
    "# Save the dataset to a CSV file\n",
    "books_data.to_csv('../data/books_data.csv', index=False)\n"
   ]
  },
  {
   "cell_type": "code",
   "execution_count": 5,
   "id": "5a33a69b-193c-455e-8043-2bfbfa2324fc",
   "metadata": {},
   "outputs": [
    {
     "data": {
      "text/html": [
       "<div>\n",
       "<style scoped>\n",
       "    .dataframe tbody tr th:only-of-type {\n",
       "        vertical-align: middle;\n",
       "    }\n",
       "\n",
       "    .dataframe tbody tr th {\n",
       "        vertical-align: top;\n",
       "    }\n",
       "\n",
       "    .dataframe thead th {\n",
       "        text-align: right;\n",
       "    }\n",
       "</style>\n",
       "<table border=\"1\" class=\"dataframe\">\n",
       "  <thead>\n",
       "    <tr style=\"text-align: right;\">\n",
       "      <th></th>\n",
       "      <th>book_id</th>\n",
       "      <th>title</th>\n",
       "      <th>subject</th>\n",
       "      <th>course</th>\n",
       "      <th>price</th>\n",
       "    </tr>\n",
       "  </thead>\n",
       "  <tbody>\n",
       "    <tr>\n",
       "      <th>0</th>\n",
       "      <td>101</td>\n",
       "      <td>Economics Basics</td>\n",
       "      <td>Economics</td>\n",
       "      <td>BA Prog</td>\n",
       "      <td>250</td>\n",
       "    </tr>\n",
       "    <tr>\n",
       "      <th>1</th>\n",
       "      <td>102</td>\n",
       "      <td>Advanced Physics</td>\n",
       "      <td>Physics</td>\n",
       "      <td>BSc Physics</td>\n",
       "      <td>400</td>\n",
       "    </tr>\n",
       "    <tr>\n",
       "      <th>2</th>\n",
       "      <td>103</td>\n",
       "      <td>Political Science</td>\n",
       "      <td>Pol Science</td>\n",
       "      <td>BA Pol Sci</td>\n",
       "      <td>300</td>\n",
       "    </tr>\n",
       "    <tr>\n",
       "      <th>3</th>\n",
       "      <td>104</td>\n",
       "      <td>Mathematics Core</td>\n",
       "      <td>Mathematics</td>\n",
       "      <td>BSc Maths</td>\n",
       "      <td>350</td>\n",
       "    </tr>\n",
       "    <tr>\n",
       "      <th>4</th>\n",
       "      <td>105</td>\n",
       "      <td>English Fluency</td>\n",
       "      <td>English</td>\n",
       "      <td>BA Prog</td>\n",
       "      <td>200</td>\n",
       "    </tr>\n",
       "  </tbody>\n",
       "</table>\n",
       "</div>"
      ],
      "text/plain": [
       "   book_id              title      subject       course  price\n",
       "0      101   Economics Basics    Economics      BA Prog    250\n",
       "1      102   Advanced Physics      Physics  BSc Physics    400\n",
       "2      103  Political Science  Pol Science   BA Pol Sci    300\n",
       "3      104   Mathematics Core  Mathematics    BSc Maths    350\n",
       "4      105    English Fluency      English      BA Prog    200"
      ]
     },
     "execution_count": 5,
     "metadata": {},
     "output_type": "execute_result"
    }
   ],
   "source": [
    "# Load books data from the CSV\n",
    "books = pd.read_csv('../data/books_data.csv')\n",
    "\n",
    "# Display loaded data\n",
    "books\n"
   ]
  },
  {
   "cell_type": "code",
   "execution_count": 6,
   "id": "bec04edf-1a8c-4084-846f-a50e7a79f91a",
   "metadata": {},
   "outputs": [
    {
     "data": {
      "text/html": [
       "<div>\n",
       "<style scoped>\n",
       "    .dataframe tbody tr th:only-of-type {\n",
       "        vertical-align: middle;\n",
       "    }\n",
       "\n",
       "    .dataframe tbody tr th {\n",
       "        vertical-align: top;\n",
       "    }\n",
       "\n",
       "    .dataframe thead th {\n",
       "        text-align: right;\n",
       "    }\n",
       "</style>\n",
       "<table border=\"1\" class=\"dataframe\">\n",
       "  <thead>\n",
       "    <tr style=\"text-align: right;\">\n",
       "      <th></th>\n",
       "      <th>customer_id</th>\n",
       "      <th>name</th>\n",
       "      <th>location</th>\n",
       "      <th>type</th>\n",
       "    </tr>\n",
       "  </thead>\n",
       "  <tbody>\n",
       "    <tr>\n",
       "      <th>0</th>\n",
       "      <td>501</td>\n",
       "      <td>Rahul Sharma</td>\n",
       "      <td>Delhi</td>\n",
       "      <td>Student</td>\n",
       "    </tr>\n",
       "    <tr>\n",
       "      <th>1</th>\n",
       "      <td>502</td>\n",
       "      <td>Delhi Book Depot</td>\n",
       "      <td>Delhi</td>\n",
       "      <td>Depot</td>\n",
       "    </tr>\n",
       "    <tr>\n",
       "      <th>2</th>\n",
       "      <td>503</td>\n",
       "      <td>Priya Verma</td>\n",
       "      <td>Noida</td>\n",
       "      <td>Student</td>\n",
       "    </tr>\n",
       "    <tr>\n",
       "      <th>3</th>\n",
       "      <td>504</td>\n",
       "      <td>NCR Book Store</td>\n",
       "      <td>Gurgaon</td>\n",
       "      <td>Depot</td>\n",
       "    </tr>\n",
       "    <tr>\n",
       "      <th>4</th>\n",
       "      <td>505</td>\n",
       "      <td>Anjali Singh</td>\n",
       "      <td>Faridabad</td>\n",
       "      <td>Student</td>\n",
       "    </tr>\n",
       "  </tbody>\n",
       "</table>\n",
       "</div>"
      ],
      "text/plain": [
       "   customer_id              name   location     type\n",
       "0          501      Rahul Sharma      Delhi  Student\n",
       "1          502  Delhi Book Depot      Delhi    Depot\n",
       "2          503       Priya Verma      Noida  Student\n",
       "3          504    NCR Book Store    Gurgaon    Depot\n",
       "4          505      Anjali Singh  Faridabad  Student"
      ]
     },
     "execution_count": 6,
     "metadata": {},
     "output_type": "execute_result"
    }
   ],
   "source": [
    "# Creating the Customers dataset\n",
    "customers_data = pd.DataFrame({\n",
    "    'customer_id': [501, 502, 503, 504, 505],\n",
    "    'name': ['Rahul Sharma', 'Delhi Book Depot', 'Priya Verma', 'NCR Book Store', 'Anjali Singh'],\n",
    "    'location': ['Delhi', 'Delhi', 'Noida', 'Gurgaon', 'Faridabad'],\n",
    "    'type': ['Student', 'Depot', 'Student', 'Depot', 'Student']\n",
    "})\n",
    "\n",
    "# Display the dataset\n",
    "customers_data\n"
   ]
  },
  {
   "cell_type": "code",
   "execution_count": 7,
   "id": "73882241-771a-4c22-a50d-0fb18869b959",
   "metadata": {},
   "outputs": [],
   "source": [
    "# Save to CSV\n",
    "customers_data.to_csv('../data/customers_data.csv', index=False)\n"
   ]
  },
  {
   "cell_type": "code",
   "execution_count": 8,
   "id": "5614576c-98b5-4528-adbd-fe5b829efe55",
   "metadata": {},
   "outputs": [
    {
     "data": {
      "text/html": [
       "<div>\n",
       "<style scoped>\n",
       "    .dataframe tbody tr th:only-of-type {\n",
       "        vertical-align: middle;\n",
       "    }\n",
       "\n",
       "    .dataframe tbody tr th {\n",
       "        vertical-align: top;\n",
       "    }\n",
       "\n",
       "    .dataframe thead th {\n",
       "        text-align: right;\n",
       "    }\n",
       "</style>\n",
       "<table border=\"1\" class=\"dataframe\">\n",
       "  <thead>\n",
       "    <tr style=\"text-align: right;\">\n",
       "      <th></th>\n",
       "      <th>customer_id</th>\n",
       "      <th>name</th>\n",
       "      <th>location</th>\n",
       "      <th>type</th>\n",
       "    </tr>\n",
       "  </thead>\n",
       "  <tbody>\n",
       "    <tr>\n",
       "      <th>0</th>\n",
       "      <td>501</td>\n",
       "      <td>Rahul Sharma</td>\n",
       "      <td>Delhi</td>\n",
       "      <td>Student</td>\n",
       "    </tr>\n",
       "    <tr>\n",
       "      <th>1</th>\n",
       "      <td>502</td>\n",
       "      <td>Delhi Book Depot</td>\n",
       "      <td>Delhi</td>\n",
       "      <td>Depot</td>\n",
       "    </tr>\n",
       "    <tr>\n",
       "      <th>2</th>\n",
       "      <td>503</td>\n",
       "      <td>Priya Verma</td>\n",
       "      <td>Noida</td>\n",
       "      <td>Student</td>\n",
       "    </tr>\n",
       "    <tr>\n",
       "      <th>3</th>\n",
       "      <td>504</td>\n",
       "      <td>NCR Book Store</td>\n",
       "      <td>Gurgaon</td>\n",
       "      <td>Depot</td>\n",
       "    </tr>\n",
       "    <tr>\n",
       "      <th>4</th>\n",
       "      <td>505</td>\n",
       "      <td>Anjali Singh</td>\n",
       "      <td>Faridabad</td>\n",
       "      <td>Student</td>\n",
       "    </tr>\n",
       "  </tbody>\n",
       "</table>\n",
       "</div>"
      ],
      "text/plain": [
       "   customer_id              name   location     type\n",
       "0          501      Rahul Sharma      Delhi  Student\n",
       "1          502  Delhi Book Depot      Delhi    Depot\n",
       "2          503       Priya Verma      Noida  Student\n",
       "3          504    NCR Book Store    Gurgaon    Depot\n",
       "4          505      Anjali Singh  Faridabad  Student"
      ]
     },
     "execution_count": 8,
     "metadata": {},
     "output_type": "execute_result"
    }
   ],
   "source": [
    "# Load customers data\n",
    "customers = pd.read_csv('../data/customers_data.csv')\n",
    "\n",
    "# Display loaded data\n",
    "customers\n"
   ]
  },
  {
   "cell_type": "code",
   "execution_count": 9,
   "id": "4b5bda57-14e0-4098-b8ff-c4a5b64c8c5c",
   "metadata": {},
   "outputs": [
    {
     "data": {
      "text/html": [
       "<div>\n",
       "<style scoped>\n",
       "    .dataframe tbody tr th:only-of-type {\n",
       "        vertical-align: middle;\n",
       "    }\n",
       "\n",
       "    .dataframe tbody tr th {\n",
       "        vertical-align: top;\n",
       "    }\n",
       "\n",
       "    .dataframe thead th {\n",
       "        text-align: right;\n",
       "    }\n",
       "</style>\n",
       "<table border=\"1\" class=\"dataframe\">\n",
       "  <thead>\n",
       "    <tr style=\"text-align: right;\">\n",
       "      <th></th>\n",
       "      <th>sale_id</th>\n",
       "      <th>date</th>\n",
       "      <th>book_id</th>\n",
       "      <th>customer_id</th>\n",
       "      <th>quantity</th>\n",
       "      <th>total_price</th>\n",
       "    </tr>\n",
       "  </thead>\n",
       "  <tbody>\n",
       "    <tr>\n",
       "      <th>0</th>\n",
       "      <td>1001</td>\n",
       "      <td>2024-01-05</td>\n",
       "      <td>101</td>\n",
       "      <td>501</td>\n",
       "      <td>2</td>\n",
       "      <td>500</td>\n",
       "    </tr>\n",
       "    <tr>\n",
       "      <th>1</th>\n",
       "      <td>1002</td>\n",
       "      <td>2024-01-12</td>\n",
       "      <td>102</td>\n",
       "      <td>502</td>\n",
       "      <td>10</td>\n",
       "      <td>4000</td>\n",
       "    </tr>\n",
       "    <tr>\n",
       "      <th>2</th>\n",
       "      <td>1003</td>\n",
       "      <td>2024-02-10</td>\n",
       "      <td>103</td>\n",
       "      <td>503</td>\n",
       "      <td>1</td>\n",
       "      <td>300</td>\n",
       "    </tr>\n",
       "    <tr>\n",
       "      <th>3</th>\n",
       "      <td>1004</td>\n",
       "      <td>2024-02-20</td>\n",
       "      <td>104</td>\n",
       "      <td>504</td>\n",
       "      <td>5</td>\n",
       "      <td>1750</td>\n",
       "    </tr>\n",
       "    <tr>\n",
       "      <th>4</th>\n",
       "      <td>1005</td>\n",
       "      <td>2024-03-01</td>\n",
       "      <td>105</td>\n",
       "      <td>505</td>\n",
       "      <td>3</td>\n",
       "      <td>600</td>\n",
       "    </tr>\n",
       "  </tbody>\n",
       "</table>\n",
       "</div>"
      ],
      "text/plain": [
       "   sale_id        date  book_id  customer_id  quantity  total_price\n",
       "0     1001  2024-01-05      101          501         2          500\n",
       "1     1002  2024-01-12      102          502        10         4000\n",
       "2     1003  2024-02-10      103          503         1          300\n",
       "3     1004  2024-02-20      104          504         5         1750\n",
       "4     1005  2024-03-01      105          505         3          600"
      ]
     },
     "execution_count": 9,
     "metadata": {},
     "output_type": "execute_result"
    }
   ],
   "source": [
    "# Creating the Sales dataset\n",
    "sales_data = pd.DataFrame({\n",
    "    'sale_id': [1001, 1002, 1003, 1004, 1005],\n",
    "    'date': ['2024-01-05', '2024-01-12', '2024-02-10', '2024-02-20', '2024-03-01'],\n",
    "    'book_id': [101, 102, 103, 104, 105],\n",
    "    'customer_id': [501, 502, 503, 504, 505],\n",
    "    'quantity': [2, 10, 1, 5, 3],\n",
    "    'total_price': [500, 4000, 300, 1750, 600]\n",
    "})\n",
    "\n",
    "# Display the sales dataset\n",
    "sales_data\n"
   ]
  },
  {
   "cell_type": "code",
   "execution_count": 10,
   "id": "1177e32f-a5a8-448a-9611-fc86bd361b49",
   "metadata": {},
   "outputs": [],
   "source": [
    "# Save the sales dataset to CSV\n",
    "sales_data.to_csv('../data/sales_data.csv', index=False)\n"
   ]
  },
  {
   "cell_type": "code",
   "execution_count": 11,
   "id": "d4cb9aa7-9884-49df-a552-7a681437916c",
   "metadata": {},
   "outputs": [
    {
     "data": {
      "text/html": [
       "<div>\n",
       "<style scoped>\n",
       "    .dataframe tbody tr th:only-of-type {\n",
       "        vertical-align: middle;\n",
       "    }\n",
       "\n",
       "    .dataframe tbody tr th {\n",
       "        vertical-align: top;\n",
       "    }\n",
       "\n",
       "    .dataframe thead th {\n",
       "        text-align: right;\n",
       "    }\n",
       "</style>\n",
       "<table border=\"1\" class=\"dataframe\">\n",
       "  <thead>\n",
       "    <tr style=\"text-align: right;\">\n",
       "      <th></th>\n",
       "      <th>sale_id</th>\n",
       "      <th>date</th>\n",
       "      <th>book_id</th>\n",
       "      <th>customer_id</th>\n",
       "      <th>quantity</th>\n",
       "      <th>total_price</th>\n",
       "    </tr>\n",
       "  </thead>\n",
       "  <tbody>\n",
       "    <tr>\n",
       "      <th>0</th>\n",
       "      <td>1001</td>\n",
       "      <td>2024-01-05</td>\n",
       "      <td>101</td>\n",
       "      <td>501</td>\n",
       "      <td>2</td>\n",
       "      <td>500</td>\n",
       "    </tr>\n",
       "    <tr>\n",
       "      <th>1</th>\n",
       "      <td>1002</td>\n",
       "      <td>2024-01-12</td>\n",
       "      <td>102</td>\n",
       "      <td>502</td>\n",
       "      <td>10</td>\n",
       "      <td>4000</td>\n",
       "    </tr>\n",
       "    <tr>\n",
       "      <th>2</th>\n",
       "      <td>1003</td>\n",
       "      <td>2024-02-10</td>\n",
       "      <td>103</td>\n",
       "      <td>503</td>\n",
       "      <td>1</td>\n",
       "      <td>300</td>\n",
       "    </tr>\n",
       "    <tr>\n",
       "      <th>3</th>\n",
       "      <td>1004</td>\n",
       "      <td>2024-02-20</td>\n",
       "      <td>104</td>\n",
       "      <td>504</td>\n",
       "      <td>5</td>\n",
       "      <td>1750</td>\n",
       "    </tr>\n",
       "    <tr>\n",
       "      <th>4</th>\n",
       "      <td>1005</td>\n",
       "      <td>2024-03-01</td>\n",
       "      <td>105</td>\n",
       "      <td>505</td>\n",
       "      <td>3</td>\n",
       "      <td>600</td>\n",
       "    </tr>\n",
       "  </tbody>\n",
       "</table>\n",
       "</div>"
      ],
      "text/plain": [
       "   sale_id        date  book_id  customer_id  quantity  total_price\n",
       "0     1001  2024-01-05      101          501         2          500\n",
       "1     1002  2024-01-12      102          502        10         4000\n",
       "2     1003  2024-02-10      103          503         1          300\n",
       "3     1004  2024-02-20      104          504         5         1750\n",
       "4     1005  2024-03-01      105          505         3          600"
      ]
     },
     "execution_count": 11,
     "metadata": {},
     "output_type": "execute_result"
    }
   ],
   "source": [
    "# Load sales data\n",
    "sales = pd.read_csv('../data/sales_data.csv')\n",
    "\n",
    "# Display loaded sales data\n",
    "sales\n"
   ]
  },
  {
   "cell_type": "code",
   "execution_count": 12,
   "id": "85562c86-1cb9-4d27-b273-6d7c2771e0d4",
   "metadata": {},
   "outputs": [
    {
     "name": "stdout",
     "output_type": "stream",
     "text": [
      "📚 Books Data:\n",
      "   book_id              title      subject       course  price\n",
      "0      101   Economics Basics    Economics      BA Prog    250\n",
      "1      102   Advanced Physics      Physics  BSc Physics    400\n",
      "2      103  Political Science  Pol Science   BA Pol Sci    300\n",
      "3      104   Mathematics Core  Mathematics    BSc Maths    350\n",
      "4      105    English Fluency      English      BA Prog    200\n",
      "\n",
      "👤 Customers Data:\n",
      "   customer_id              name   location     type\n",
      "0          501      Rahul Sharma      Delhi  Student\n",
      "1          502  Delhi Book Depot      Delhi    Depot\n",
      "2          503       Priya Verma      Noida  Student\n",
      "3          504    NCR Book Store    Gurgaon    Depot\n",
      "4          505      Anjali Singh  Faridabad  Student\n",
      "\n",
      "🧾 Sales Data:\n",
      "   sale_id        date  book_id  customer_id  quantity  total_price\n",
      "0     1001  2024-01-05      101          501         2          500\n",
      "1     1002  2024-01-12      102          502        10         4000\n",
      "2     1003  2024-02-10      103          503         1          300\n",
      "3     1004  2024-02-20      104          504         5         1750\n",
      "4     1005  2024-03-01      105          505         3          600\n"
     ]
    }
   ],
   "source": [
    "# View first few records of books\n",
    "print(\"📚 Books Data:\")\n",
    "print(books.head())\n",
    "\n",
    "# View first few records of customers\n",
    "print(\"\\n👤 Customers Data:\")\n",
    "print(customers.head())\n",
    "\n",
    "# View first few records of sales\n",
    "print(\"\\n🧾 Sales Data:\")\n",
    "print(sales.head())\n"
   ]
  },
  {
   "cell_type": "code",
   "execution_count": 13,
   "id": "a9adb87a-e4fd-4103-ac26-d0942acbc3af",
   "metadata": {},
   "outputs": [
    {
     "name": "stdout",
     "output_type": "stream",
     "text": [
      "Books Info:\n",
      "<class 'pandas.core.frame.DataFrame'>\n",
      "RangeIndex: 5 entries, 0 to 4\n",
      "Data columns (total 5 columns):\n",
      " #   Column   Non-Null Count  Dtype \n",
      "---  ------   --------------  ----- \n",
      " 0   book_id  5 non-null      int64 \n",
      " 1   title    5 non-null      object\n",
      " 2   subject  5 non-null      object\n",
      " 3   course   5 non-null      object\n",
      " 4   price    5 non-null      int64 \n",
      "dtypes: int64(2), object(3)\n",
      "memory usage: 332.0+ bytes\n",
      "None\n",
      "\n",
      "Customers Info:\n",
      "<class 'pandas.core.frame.DataFrame'>\n",
      "RangeIndex: 5 entries, 0 to 4\n",
      "Data columns (total 4 columns):\n",
      " #   Column       Non-Null Count  Dtype \n",
      "---  ------       --------------  ----- \n",
      " 0   customer_id  5 non-null      int64 \n",
      " 1   name         5 non-null      object\n",
      " 2   location     5 non-null      object\n",
      " 3   type         5 non-null      object\n",
      "dtypes: int64(1), object(3)\n",
      "memory usage: 292.0+ bytes\n",
      "None\n",
      "\n",
      "Sales Info:\n",
      "<class 'pandas.core.frame.DataFrame'>\n",
      "RangeIndex: 5 entries, 0 to 4\n",
      "Data columns (total 6 columns):\n",
      " #   Column       Non-Null Count  Dtype \n",
      "---  ------       --------------  ----- \n",
      " 0   sale_id      5 non-null      int64 \n",
      " 1   date         5 non-null      object\n",
      " 2   book_id      5 non-null      int64 \n",
      " 3   customer_id  5 non-null      int64 \n",
      " 4   quantity     5 non-null      int64 \n",
      " 5   total_price  5 non-null      int64 \n",
      "dtypes: int64(5), object(1)\n",
      "memory usage: 372.0+ bytes\n",
      "None\n"
     ]
    }
   ],
   "source": [
    "print(\"Books Info:\")\n",
    "print(books.info())\n",
    "\n",
    "print(\"\\nCustomers Info:\")\n",
    "print(customers.info())\n",
    "\n",
    "print(\"\\nSales Info:\")\n",
    "print(sales.info())\n"
   ]
  },
  {
   "cell_type": "code",
   "execution_count": 14,
   "id": "c45d40b5-6063-4383-bbed-ec0fc8a585a1",
   "metadata": {},
   "outputs": [
    {
     "name": "stdout",
     "output_type": "stream",
     "text": [
      "Books Missing Values:\n",
      " book_id    0\n",
      "title      0\n",
      "subject    0\n",
      "course     0\n",
      "price      0\n",
      "dtype: int64\n",
      "\n",
      "Customers Missing Values:\n",
      " customer_id    0\n",
      "name           0\n",
      "location       0\n",
      "type           0\n",
      "dtype: int64\n",
      "\n",
      "Sales Missing Values:\n",
      " sale_id        0\n",
      "date           0\n",
      "book_id        0\n",
      "customer_id    0\n",
      "quantity       0\n",
      "total_price    0\n",
      "dtype: int64\n"
     ]
    }
   ],
   "source": [
    "print(\"Books Missing Values:\\n\", books.isnull().sum())\n",
    "print(\"\\nCustomers Missing Values:\\n\", customers.isnull().sum())\n",
    "print(\"\\nSales Missing Values:\\n\", sales.isnull().sum())\n"
   ]
  },
  {
   "cell_type": "code",
   "execution_count": 15,
   "id": "eb5000b1-d010-4444-95e9-12fe0bf82942",
   "metadata": {},
   "outputs": [
    {
     "name": "stdout",
     "output_type": "stream",
     "text": [
      "Books Duplicates: 0\n",
      "Customers Duplicates: 0\n",
      "Sales Duplicates: 0\n"
     ]
    }
   ],
   "source": [
    "print(\"Books Duplicates:\", books.duplicated().sum())\n",
    "print(\"Customers Duplicates:\", customers.duplicated().sum())\n",
    "print(\"Sales Duplicates:\", sales.duplicated().sum())\n"
   ]
  },
  {
   "cell_type": "code",
   "execution_count": 16,
   "id": "417f7711-5aef-42a2-91d7-19a5cf528bb8",
   "metadata": {},
   "outputs": [
    {
     "name": "stdout",
     "output_type": "stream",
     "text": [
      "Books Statistics:\n",
      "          book_id       price\n",
      "count    5.000000    5.000000\n",
      "mean   103.000000  300.000000\n",
      "std      1.581139   79.056942\n",
      "min    101.000000  200.000000\n",
      "25%    102.000000  250.000000\n",
      "50%    103.000000  300.000000\n",
      "75%    104.000000  350.000000\n",
      "max    105.000000  400.000000\n",
      "\n",
      "Sales Statistics:\n",
      "           sale_id     book_id  customer_id   quantity  total_price\n",
      "count     5.000000    5.000000     5.000000   5.000000     5.000000\n",
      "mean   1003.000000  103.000000   503.000000   4.200000  1430.000000\n",
      "std       1.581139    1.581139     1.581139   3.563706  1544.182632\n",
      "min    1001.000000  101.000000   501.000000   1.000000   300.000000\n",
      "25%    1002.000000  102.000000   502.000000   2.000000   500.000000\n",
      "50%    1003.000000  103.000000   503.000000   3.000000   600.000000\n",
      "75%    1004.000000  104.000000   504.000000   5.000000  1750.000000\n",
      "max    1005.000000  105.000000   505.000000  10.000000  4000.000000\n"
     ]
    }
   ],
   "source": [
    "print(\"Books Statistics:\")\n",
    "print(books.describe())\n",
    "\n",
    "print(\"\\nSales Statistics:\")\n",
    "print(sales.describe())\n"
   ]
  },
  {
   "cell_type": "code",
   "execution_count": 17,
   "id": "41111e55-4254-41db-bc0f-60453a43b8e2",
   "metadata": {},
   "outputs": [
    {
     "data": {
      "text/html": [
       "<div>\n",
       "<style scoped>\n",
       "    .dataframe tbody tr th:only-of-type {\n",
       "        vertical-align: middle;\n",
       "    }\n",
       "\n",
       "    .dataframe tbody tr th {\n",
       "        vertical-align: top;\n",
       "    }\n",
       "\n",
       "    .dataframe thead th {\n",
       "        text-align: right;\n",
       "    }\n",
       "</style>\n",
       "<table border=\"1\" class=\"dataframe\">\n",
       "  <thead>\n",
       "    <tr style=\"text-align: right;\">\n",
       "      <th></th>\n",
       "      <th>sale_id</th>\n",
       "      <th>date</th>\n",
       "      <th>book_id</th>\n",
       "      <th>customer_id</th>\n",
       "      <th>quantity</th>\n",
       "      <th>total_price</th>\n",
       "      <th>title</th>\n",
       "      <th>subject</th>\n",
       "      <th>course</th>\n",
       "      <th>price</th>\n",
       "      <th>name</th>\n",
       "      <th>location</th>\n",
       "      <th>type</th>\n",
       "    </tr>\n",
       "  </thead>\n",
       "  <tbody>\n",
       "    <tr>\n",
       "      <th>0</th>\n",
       "      <td>1001</td>\n",
       "      <td>2024-01-05</td>\n",
       "      <td>101</td>\n",
       "      <td>501</td>\n",
       "      <td>2</td>\n",
       "      <td>500</td>\n",
       "      <td>Economics Basics</td>\n",
       "      <td>Economics</td>\n",
       "      <td>BA Prog</td>\n",
       "      <td>250</td>\n",
       "      <td>Rahul Sharma</td>\n",
       "      <td>Delhi</td>\n",
       "      <td>Student</td>\n",
       "    </tr>\n",
       "    <tr>\n",
       "      <th>1</th>\n",
       "      <td>1002</td>\n",
       "      <td>2024-01-12</td>\n",
       "      <td>102</td>\n",
       "      <td>502</td>\n",
       "      <td>10</td>\n",
       "      <td>4000</td>\n",
       "      <td>Advanced Physics</td>\n",
       "      <td>Physics</td>\n",
       "      <td>BSc Physics</td>\n",
       "      <td>400</td>\n",
       "      <td>Delhi Book Depot</td>\n",
       "      <td>Delhi</td>\n",
       "      <td>Depot</td>\n",
       "    </tr>\n",
       "    <tr>\n",
       "      <th>2</th>\n",
       "      <td>1003</td>\n",
       "      <td>2024-02-10</td>\n",
       "      <td>103</td>\n",
       "      <td>503</td>\n",
       "      <td>1</td>\n",
       "      <td>300</td>\n",
       "      <td>Political Science</td>\n",
       "      <td>Pol Science</td>\n",
       "      <td>BA Pol Sci</td>\n",
       "      <td>300</td>\n",
       "      <td>Priya Verma</td>\n",
       "      <td>Noida</td>\n",
       "      <td>Student</td>\n",
       "    </tr>\n",
       "    <tr>\n",
       "      <th>3</th>\n",
       "      <td>1004</td>\n",
       "      <td>2024-02-20</td>\n",
       "      <td>104</td>\n",
       "      <td>504</td>\n",
       "      <td>5</td>\n",
       "      <td>1750</td>\n",
       "      <td>Mathematics Core</td>\n",
       "      <td>Mathematics</td>\n",
       "      <td>BSc Maths</td>\n",
       "      <td>350</td>\n",
       "      <td>NCR Book Store</td>\n",
       "      <td>Gurgaon</td>\n",
       "      <td>Depot</td>\n",
       "    </tr>\n",
       "    <tr>\n",
       "      <th>4</th>\n",
       "      <td>1005</td>\n",
       "      <td>2024-03-01</td>\n",
       "      <td>105</td>\n",
       "      <td>505</td>\n",
       "      <td>3</td>\n",
       "      <td>600</td>\n",
       "      <td>English Fluency</td>\n",
       "      <td>English</td>\n",
       "      <td>BA Prog</td>\n",
       "      <td>200</td>\n",
       "      <td>Anjali Singh</td>\n",
       "      <td>Faridabad</td>\n",
       "      <td>Student</td>\n",
       "    </tr>\n",
       "  </tbody>\n",
       "</table>\n",
       "</div>"
      ],
      "text/plain": [
       "   sale_id        date  book_id  customer_id  quantity  total_price  \\\n",
       "0     1001  2024-01-05      101          501         2          500   \n",
       "1     1002  2024-01-12      102          502        10         4000   \n",
       "2     1003  2024-02-10      103          503         1          300   \n",
       "3     1004  2024-02-20      104          504         5         1750   \n",
       "4     1005  2024-03-01      105          505         3          600   \n",
       "\n",
       "               title      subject       course  price              name  \\\n",
       "0   Economics Basics    Economics      BA Prog    250      Rahul Sharma   \n",
       "1   Advanced Physics      Physics  BSc Physics    400  Delhi Book Depot   \n",
       "2  Political Science  Pol Science   BA Pol Sci    300       Priya Verma   \n",
       "3   Mathematics Core  Mathematics    BSc Maths    350    NCR Book Store   \n",
       "4    English Fluency      English      BA Prog    200      Anjali Singh   \n",
       "\n",
       "    location     type  \n",
       "0      Delhi  Student  \n",
       "1      Delhi    Depot  \n",
       "2      Noida  Student  \n",
       "3    Gurgaon    Depot  \n",
       "4  Faridabad  Student  "
      ]
     },
     "execution_count": 17,
     "metadata": {},
     "output_type": "execute_result"
    }
   ],
   "source": [
    "# Merge sales with books on 'book_id'\n",
    "sales_books = pd.merge(sales, books, on='book_id', how='left')\n",
    "\n",
    "# Merge the result with customers on 'customer_id'\n",
    "full_data = pd.merge(sales_books, customers, on='customer_id', how='left')\n",
    "\n",
    "# View combined data\n",
    "full_data\n"
   ]
  },
  {
   "cell_type": "code",
   "execution_count": 18,
   "id": "191128d6-3946-4367-b108-470eaed362ef",
   "metadata": {},
   "outputs": [
    {
     "name": "stdout",
     "output_type": "stream",
     "text": [
      "💰 Total Revenue Generated: ₹7150\n"
     ]
    }
   ],
   "source": [
    "total_revenue = full_data['total_price'].sum()\n",
    "print(f\"💰 Total Revenue Generated: ₹{total_revenue}\")\n"
   ]
  },
  {
   "cell_type": "code",
   "execution_count": 19,
   "id": "440debe9-f186-4348-b0ef-d138514ed0c6",
   "metadata": {},
   "outputs": [
    {
     "name": "stdout",
     "output_type": "stream",
     "text": [
      "📚 Top Selling Books by Quantity:\n",
      "title\n",
      "Advanced Physics     10\n",
      "Mathematics Core      5\n",
      "English Fluency       3\n",
      "Economics Basics      2\n",
      "Political Science     1\n",
      "Name: quantity, dtype: int64\n"
     ]
    }
   ],
   "source": [
    "top_books = full_data.groupby('title')['quantity'].sum().sort_values(ascending=False)\n",
    "\n",
    "print(\"📚 Top Selling Books by Quantity:\")\n",
    "print(top_books)\n"
   ]
  },
  {
   "cell_type": "code",
   "execution_count": 20,
   "id": "22ca21aa-0735-456b-bce7-bef38b2894ad",
   "metadata": {},
   "outputs": [
    {
     "data": {
      "image/png": "[encoded data removed]",
      "text/plain": [
       "<Figure size 800x500 with 1 Axes>"
      ]
     },
     "metadata": {},
     "output_type": "display_data"
    }
   ],
   "source": [
    "top_books.plot(kind='bar', title='Top Selling Books', ylabel='Quantity Sold', xlabel='Book Title', figsize=(8,5))\n",
    "plt.xticks(rotation=45)\n",
    "plt.show()\n"
   ]
  },
  {
   "cell_type": "code",
   "execution_count": 21,
   "id": "6d44b4d4-fcf5-4ee5-b770-d117dbb3dc4a",
   "metadata": {},
   "outputs": [
    {
     "name": "stdout",
     "output_type": "stream",
     "text": [
      "💼 Revenue by Customer Type:\n",
      "type\n",
      "Depot      5750\n",
      "Student    1400\n",
      "Name: total_price, dtype: int64\n"
     ]
    },
    {
     "data": {
      "image/png": "[encoded data removed]",
      "text/plain": [
       "<Figure size 640x480 with 1 Axes>"
      ]
     },
     "metadata": {},
     "output_type": "display_data"
    }
   ],
   "source": [
    "revenue_by_type = full_data.groupby('type')['total_price'].sum()\n",
    "\n",
    "print(\"💼 Revenue by Customer Type:\")\n",
    "print(revenue_by_type)\n",
    "\n",
    "# Plot\n",
    "revenue_by_type.plot(kind='bar', title='Revenue by Customer Type', ylabel='Revenue (₹)', xlabel='Customer Type', color=['skyblue', 'orange'])\n",
    "plt.show()\n"
   ]
  },
  {
   "cell_type": "code",
   "execution_count": 22,
   "id": "0243c58e-54f3-4e72-8991-d3213cfdac19",
   "metadata": {},
   "outputs": [
    {
     "name": "stdout",
     "output_type": "stream",
     "text": [
      "📅 Monthly Sales Revenue:\n",
      "month\n",
      "2024-01    4500\n",
      "2024-02    2050\n",
      "2024-03     600\n",
      "Freq: M, Name: total_price, dtype: int64\n"
     ]
    },
    {
     "data": {
      "image/png": "[encoded data removed]",
      "text/plain": [
       "<Figure size 800x500 with 1 Axes>"
      ]
     },
     "metadata": {},
     "output_type": "display_data"
    }
   ],
   "source": [
    "# Convert date column to datetime\n",
    "full_data['date'] = pd.to_datetime(full_data['date'])\n",
    "\n",
    "# Extract month-year\n",
    "full_data['month'] = full_data['date'].dt.to_period('M')\n",
    "\n",
    "# Group by month and sum revenue\n",
    "monthly_sales = full_data.groupby('month')['total_price'].sum()\n",
    "\n",
    "print(\"📅 Monthly Sales Revenue:\")\n",
    "print(monthly_sales)\n",
    "\n",
    "# Plot\n",
    "monthly_sales.plot(marker='o', title='Monthly Sales Revenue', ylabel='Revenue (₹)', xlabel='Month', figsize=(8,5))\n",
    "plt.show()\n"
   ]
  },
  {
   "cell_type": "code",
   "execution_count": 23,
   "id": "d52502e9-668d-4f0b-8c15-5ee2f6115ae2",
   "metadata": {},
   "outputs": [
    {
     "name": "stdout",
     "output_type": "stream",
     "text": [
      "📌 BUSINESS INSIGHTS & RECOMMENDATIONS\n",
      "--------------------------------------------------\n",
      "1. Total Revenue generated: ₹7150\n",
      "\n",
      "2. Top-Selling Books by Quantity:\n",
      "title\n",
      "Advanced Physics     10\n",
      "Mathematics Core      5\n",
      "English Fluency       3\n",
      "Economics Basics      2\n",
      "Political Science     1\n",
      "Name: quantity, dtype: int64 \n",
      "\n",
      "3. Revenue by Customer Type:\n",
      "type\n",
      "Depot      5750\n",
      "Student    1400\n",
      "Name: total_price, dtype: int64 \n",
      "\n",
      "🗒️ Recommendation: Focus marketing efforts more on 'Depot' customers as they contribute the highest revenue.\n",
      "\n",
      "4. Monthly Sales Trend:\n",
      "month\n",
      "2024-01    4500\n",
      "2024-02    2050\n",
      "2024-03     600\n",
      "Freq: M, Name: total_price, dtype: int64 \n",
      "\n",
      "📈 Recommendation: Increase stock and promotions around 2024-01 as it had the highest sales.\n",
      "\n"
     ]
    }
   ],
   "source": [
    "print(\"📌 BUSINESS INSIGHTS & RECOMMENDATIONS\")\n",
    "print(\"-\" * 50)\n",
    "\n",
    "print(f\"1. Total Revenue generated: ₹{total_revenue}\\n\")\n",
    "\n",
    "print(\"2. Top-Selling Books by Quantity:\")\n",
    "print(top_books, \"\\n\")\n",
    "\n",
    "print(\"3. Revenue by Customer Type:\")\n",
    "print(revenue_by_type, \"\\n\")\n",
    "\n",
    "top_type = revenue_by_type.idxmax()\n",
    "print(f\"🗒️ Recommendation: Focus marketing efforts more on '{top_type}' customers as they contribute the highest revenue.\\n\")\n",
    "\n",
    "print(\"4. Monthly Sales Trend:\")\n",
    "print(monthly_sales, \"\\n\")\n",
    "\n",
    "best_month = monthly_sales.idxmax()\n",
    "print(f\"📈 Recommendation: Increase stock and promotions around {best_month} as it had the highest sales.\\n\")\n"
   ]
  },
  {
   "cell_type": "code",
   "execution_count": 25,
   "id": "7ba5d381-ab07-47cf-82fb-c31e3b45b396",
   "metadata": {},
   "outputs": [
    {
     "ename": "UnicodeEncodeError",
     "evalue": "'charmap' codec can't encode character '\\U0001f4cc' in position 0: character maps to <undefined>",
     "output_type": "error",
     "traceback": [
      "\u001b[31m---------------------------------------------------------------------------\u001b[39m",
      "\u001b[31mUnicodeEncodeError\u001b[39m                        Traceback (most recent call last)",
      "\u001b[36mCell\u001b[39m\u001b[36m \u001b[39m\u001b[32mIn[25]\u001b[39m\u001b[32m, line 2\u001b[39m\n\u001b[32m      1\u001b[39m \u001b[38;5;28;01mwith\u001b[39;00m \u001b[38;5;28mopen\u001b[39m(\u001b[33m'\u001b[39m\u001b[33m../outputs/business_insights.txt\u001b[39m\u001b[33m'\u001b[39m, \u001b[33m'\u001b[39m\u001b[33mw\u001b[39m\u001b[33m'\u001b[39m) \u001b[38;5;28;01mas\u001b[39;00m f:\n\u001b[32m----> \u001b[39m\u001b[32m2\u001b[39m     \u001b[43mf\u001b[49m\u001b[43m.\u001b[49m\u001b[43mwrite\u001b[49m\u001b[43m(\u001b[49m\u001b[33;43m\"\u001b[39;49m\u001b[33;43m📌 BUSINESS INSIGHTS & RECOMMENDATIONS\u001b[39;49m\u001b[38;5;130;43;01m\\n\u001b[39;49;00m\u001b[33;43m\"\u001b[39;49m\u001b[43m)\u001b[49m\n\u001b[32m      3\u001b[39m     f.write(\u001b[33m\"\u001b[39m\u001b[33m-\u001b[39m\u001b[33m\"\u001b[39m * \u001b[32m50\u001b[39m + \u001b[33m\"\u001b[39m\u001b[38;5;130;01m\\n\u001b[39;00m\u001b[33m\"\u001b[39m)\n\u001b[32m      5\u001b[39m     f.write(\u001b[33mf\u001b[39m\u001b[33m\"\u001b[39m\u001b[33m1. Total Revenue generated: ₹\u001b[39m\u001b[38;5;132;01m{\u001b[39;00mtotal_revenue\u001b[38;5;132;01m}\u001b[39;00m\u001b[38;5;130;01m\\n\u001b[39;00m\u001b[38;5;130;01m\\n\u001b[39;00m\u001b[33m\"\u001b[39m)\n",
      "\u001b[36mFile \u001b[39m\u001b[32m~\\AppData\\Local\\Programs\\Python\\Python313\\Lib\\encodings\\cp1252.py:19\u001b[39m, in \u001b[36mIncrementalEncoder.encode\u001b[39m\u001b[34m(self, input, final)\u001b[39m\n\u001b[32m     18\u001b[39m \u001b[38;5;28;01mdef\u001b[39;00m\u001b[38;5;250m \u001b[39m\u001b[34mencode\u001b[39m(\u001b[38;5;28mself\u001b[39m, \u001b[38;5;28minput\u001b[39m, final=\u001b[38;5;28;01mFalse\u001b[39;00m):\n\u001b[32m---> \u001b[39m\u001b[32m19\u001b[39m     \u001b[38;5;28;01mreturn\u001b[39;00m \u001b[43mcodecs\u001b[49m\u001b[43m.\u001b[49m\u001b[43mcharmap_encode\u001b[49m\u001b[43m(\u001b[49m\u001b[38;5;28;43minput\u001b[39;49m\u001b[43m,\u001b[49m\u001b[38;5;28;43mself\u001b[39;49m\u001b[43m.\u001b[49m\u001b[43merrors\u001b[49m\u001b[43m,\u001b[49m\u001b[43mencoding_table\u001b[49m\u001b[43m)\u001b[49m[\u001b[32m0\u001b[39m]\n",
      "\u001b[31mUnicodeEncodeError\u001b[39m: 'charmap' codec can't encode character '\\U0001f4cc' in position 0: character maps to <undefined>"
     ]
    }
   ],
   "source": [
    "with open('../outputs/business_insights.txt', 'w') as f:\n",
    "    f.write(\"📌 BUSINESS INSIGHTS & RECOMMENDATIONS\\n\")\n",
    "    f.write(\"-\" * 50 + \"\\n\")\n",
    "    \n",
    "    f.write(f\"1. Total Revenue generated: ₹{total_revenue}\\n\\n\")\n",
    "    \n",
    "    f.write(\"2. Top-Selling Books by Quantity:\\n\")\n",
    "    f.write(str(top_books) + \"\\n\\n\")\n",
    "    \n",
    "    f.write(\"3. Revenue by Customer Type:\\n\")\n",
    "    f.write(str(revenue_by_type) + \"\\n\\n\")\n",
    "    \n",
    "    f.write(f\"Recommendation: Focus marketing efforts more on '{top_type}' customers.\\n\\n\")\n",
    "    \n",
    "    f.write(\"4. Monthly Sales Trend:\\n\")\n",
    "    f.write(str(monthly_sales) + \"\\n\\n\")\n",
    "    \n",
    "    f.write(f\"Recommendation: Peak sales occurred in {best_month}. Plan for stock and promotions accordingly.\\n\")\n"
   ]
  },
  {
   "cell_type": "code",
   "execution_count": 26,
   "id": "9e8038b6-9393-4006-978b-0e5d38a3dfd2",
   "metadata": {},
   "outputs": [
    {
     "ename": "UnicodeEncodeError",
     "evalue": "'charmap' codec can't encode character '\\U0001f4cc' in position 0: character maps to <undefined>",
     "output_type": "error",
     "traceback": [
      "\u001b[31m---------------------------------------------------------------------------\u001b[39m",
      "\u001b[31mUnicodeEncodeError\u001b[39m                        Traceback (most recent call last)",
      "\u001b[36mCell\u001b[39m\u001b[36m \u001b[39m\u001b[32mIn[26]\u001b[39m\u001b[32m, line 2\u001b[39m\n\u001b[32m      1\u001b[39m \u001b[38;5;28;01mwith\u001b[39;00m \u001b[38;5;28mopen\u001b[39m(\u001b[33m'\u001b[39m\u001b[33m../outputs/business_insights.txt\u001b[39m\u001b[33m'\u001b[39m, \u001b[33m'\u001b[39m\u001b[33mw\u001b[39m\u001b[33m'\u001b[39m) \u001b[38;5;28;01mas\u001b[39;00m f:\n\u001b[32m----> \u001b[39m\u001b[32m2\u001b[39m     \u001b[43mf\u001b[49m\u001b[43m.\u001b[49m\u001b[43mwrite\u001b[49m\u001b[43m(\u001b[49m\u001b[33;43m\"\u001b[39;49m\u001b[33;43m📌 BUSINESS INSIGHTS & RECOMMENDATIONS\u001b[39;49m\u001b[38;5;130;43;01m\\n\u001b[39;49;00m\u001b[33;43m\"\u001b[39;49m\u001b[43m)\u001b[49m\n\u001b[32m      3\u001b[39m     f.write(\u001b[33m\"\u001b[39m\u001b[33m-\u001b[39m\u001b[33m\"\u001b[39m * \u001b[32m50\u001b[39m + \u001b[33m\"\u001b[39m\u001b[38;5;130;01m\\n\u001b[39;00m\u001b[33m\"\u001b[39m)\n\u001b[32m      5\u001b[39m     f.write(\u001b[33mf\u001b[39m\u001b[33m\"\u001b[39m\u001b[33m1. Total Revenue generated: ₹\u001b[39m\u001b[38;5;132;01m{\u001b[39;00mtotal_revenue\u001b[38;5;132;01m}\u001b[39;00m\u001b[38;5;130;01m\\n\u001b[39;00m\u001b[38;5;130;01m\\n\u001b[39;00m\u001b[33m\"\u001b[39m)\n",
      "\u001b[36mFile \u001b[39m\u001b[32m~\\AppData\\Local\\Programs\\Python\\Python313\\Lib\\encodings\\cp1252.py:19\u001b[39m, in \u001b[36mIncrementalEncoder.encode\u001b[39m\u001b[34m(self, input, final)\u001b[39m\n\u001b[32m     18\u001b[39m \u001b[38;5;28;01mdef\u001b[39;00m\u001b[38;5;250m \u001b[39m\u001b[34mencode\u001b[39m(\u001b[38;5;28mself\u001b[39m, \u001b[38;5;28minput\u001b[39m, final=\u001b[38;5;28;01mFalse\u001b[39;00m):\n\u001b[32m---> \u001b[39m\u001b[32m19\u001b[39m     \u001b[38;5;28;01mreturn\u001b[39;00m \u001b[43mcodecs\u001b[49m\u001b[43m.\u001b[49m\u001b[43mcharmap_encode\u001b[49m\u001b[43m(\u001b[49m\u001b[38;5;28;43minput\u001b[39;49m\u001b[43m,\u001b[49m\u001b[38;5;28;43mself\u001b[39;49m\u001b[43m.\u001b[49m\u001b[43merrors\u001b[49m\u001b[43m,\u001b[49m\u001b[43mencoding_table\u001b[49m\u001b[43m)\u001b[49m[\u001b[32m0\u001b[39m]\n",
      "\u001b[31mUnicodeEncodeError\u001b[39m: 'charmap' codec can't encode character '\\U0001f4cc' in position 0: character maps to <undefined>"
     ]
    }
   ],
   "source": [
    "with open('../outputs/business_insights.txt', 'w') as f:\n",
    "    f.write(\"📌 BUSINESS INSIGHTS & RECOMMENDATIONS\\n\")\n",
    "    f.write(\"-\" * 50 + \"\\n\")\n",
    "    \n",
    "    f.write(f\"1. Total Revenue generated: ₹{total_revenue}\\n\\n\")\n",
    "    \n",
    "    f.write(\"2. Top-Selling Books by Quantity:\\n\")\n",
    "    f.write(str(top_books) + \"\\n\\n\")\n",
    "    \n",
    "    f.write(\"3. Revenue by Customer Type:\\n\")\n",
    "    f.write(str(revenue_by_type) + \"\\n\\n\")\n",
    "    \n",
    "    f.write(f\"Recommendation: Focus marketing efforts more on '{top_type}' customers.\\n\\n\")\n",
    "    \n",
    "    f.write(\"4. Monthly Sales Trend:\\n\")\n",
    "    f.write(str(monthly_sales) + \"\\n\\n\")\n",
    "    \n",
    "    f.write(f\"Recommendation: Peak sales occurred in {best_month}. Plan for stock and promotions accordingly.\\n\")\n"
   ]
  },
  {
   "cell_type": "code",
   "execution_count": 27,
   "id": "55807d04-b1f2-45dd-9e49-d96afd12d7cc",
   "metadata": {},
   "outputs": [],
   "source": [
    "with open('../outputs/business_insights.txt', 'w', encoding='utf-8') as f:\n",
    "    f.write(\"📌 BUSINESS INSIGHTS & RECOMMENDATIONS\\n\")\n",
    "    f.write(\"-\" * 50 + \"\\n\")\n",
    "    \n",
    "    f.write(f\"1. Total Revenue generated: ₹{total_revenue}\\n\\n\")\n",
    "    \n",
    "    f.write(\"2. Top-Selling Books by Quantity:\\n\")\n",
    "    f.write(str(top_books) + \"\\n\\n\")\n",
    "    \n",
    "    f.write(\"3. Revenue by Customer Type:\\n\")\n",
    "    f.write(str(revenue_by_type) + \"\\n\\n\")\n",
    "    \n",
    "    f.write(f\"Recommendation: Focus marketing efforts more on '{top_type}' customers.\\n\\n\")\n",
    "    \n",
    "    f.write(\"4. Monthly Sales Trend:\\n\")\n",
    "    f.write(str(monthly_sales) + \"\\n\\n\")\n",
    "    \n",
    "    f.write(f\"Recommendation: Peak sales occurred in {best_month}. Plan for stock and promotions accordingly.\\n\")\n"
   ]
  },
  {
   "cell_type": "code",
   "execution_count": 28,
   "id": "d68fb954-d588-4a8e-a760-9c2e6f887a88",
   "metadata": {},
   "outputs": [
    {
     "name": "stdout",
     "output_type": "stream",
     "text": [
      "✅ Full data exported successfully to outputs/ms_publications_full_data.xlsx\n"
     ]
    }
   ],
   "source": [
    "# Export the full merged data to Excel\n",
    "full_data.to_excel('../outputs/ms_publications_full_data.xlsx', index=False)\n",
    "\n",
    "print(\"✅ Full data exported successfully to outputs/ms_publications_full_data.xlsx\")\n"
   ]
  },
  {
   "cell_type": "code",
   "execution_count": 29,
   "id": "2f8b4951-aa57-419c-8161-e6c9971c909e",
   "metadata": {},
   "outputs": [
    {
     "name": "stdout",
     "output_type": "stream",
     "text": [
      "✅ Full data exported successfully to outputs/ms_publications_full_data.csv\n"
     ]
    }
   ],
   "source": [
    "# Export to CSV\n",
    "full_data.to_csv('../outputs/ms_publications_full_data.csv', index=False)\n",
    "\n",
    "print(\"✅ Full data exported successfully to outputs/ms_publications_full_data.csv\")\n"
   ]
  },
  {
   "cell_type": "code",
   "execution_count": 2,
   "id": "6dde4931-4ffd-4301-9ef1-4c4b22cd5be4",
   "metadata": {},
   "outputs": [
    {
     "ename": "NameError",
     "evalue": "name 'full_data' is not defined",
     "output_type": "error",
     "traceback": [
      "\u001b[31m---------------------------------------------------------------------------\u001b[39m",
      "\u001b[31mNameError\u001b[39m                                 Traceback (most recent call last)",
      "\u001b[36mCell\u001b[39m\u001b[36m \u001b[39m\u001b[32mIn[2]\u001b[39m\u001b[32m, line 2\u001b[39m\n\u001b[32m      1\u001b[39m \u001b[38;5;66;03m# Pie chart of sales distribution by book title\u001b[39;00m\n\u001b[32m----> \u001b[39m\u001b[32m2\u001b[39m sales_by_book = \u001b[43mfull_data\u001b[49m.groupby(\u001b[33m'\u001b[39m\u001b[33mtitle\u001b[39m\u001b[33m'\u001b[39m)[\u001b[33m'\u001b[39m\u001b[33mquantity\u001b[39m\u001b[33m'\u001b[39m].sum()\n\u001b[32m      3\u001b[39m plt.figure(figsize=(\u001b[32m7\u001b[39m,\u001b[32m7\u001b[39m))\n\u001b[32m      4\u001b[39m sales_by_book.plot.pie(autopct=\u001b[33m'\u001b[39m\u001b[38;5;132;01m%1.1f\u001b[39;00m\u001b[38;5;132;01m%%\u001b[39;00m\u001b[33m'\u001b[39m, startangle=\u001b[32m90\u001b[39m, cmap=\u001b[33m'\u001b[39m\u001b[33mSet3\u001b[39m\u001b[33m'\u001b[39m, ylabel=\u001b[33m'\u001b[39m\u001b[33m'\u001b[39m)\n",
      "\u001b[31mNameError\u001b[39m: name 'full_data' is not defined"
     ]
    }
   ],
   "source": [
    "# Pie chart of sales distribution by book title\n",
    "sales_by_book = full_data.groupby('title')['quantity'].sum()\n",
    "plt.figure(figsize=(7,7))\n",
    "sales_by_book.plot.pie(autopct='%1.1f%%', startangle=90, cmap='Set3', ylabel='')\n",
    "plt.title('Sales Distribution by Book Title')\n",
    "plt.ylabel('')\n",
    "plt.show()"
   ]
  },
  {
   "cell_type": "code",
   "execution_count": 4,
   "id": "a3f6765f-8ca8-46fd-b9a8-426e0aa0f119",
   "metadata": {},
   "outputs": [
    {
     "name": "stderr",
     "output_type": "stream",
     "text": [
      "UsageError: Cell magic `%%ai` not found.\n"
     ]
    }
   ],
   "source": [
    "%%ai\n",
    "Write a Python function to find the factorial of a number\n"
   ]
  },
  {
   "cell_type": "code",
   "execution_count": null,
   "id": "f10972fb-a4d6-4c84-a904-5a1a748b46e0",
   "metadata": {},
   "outputs": [],
   "source": []
  }
 ],
 "metadata": {
  "kernelspec": {
   "display_name": "Python 3 (ipykernel)",
   "language": "python",
   "name": "python3"
  },
  "language_info": {
   "codemirror_mode": {
    "name": "ipython",
    "version": 3
   },
   "file_extension": ".py",
   "mimetype": "text/x-python",
   "name": "python",
   "nbconvert_exporter": "python",
   "pygments_lexer": "ipython3",
   "version": "3.13.3"
  }
 },
 "nbformat": 4,
 "nbformat_minor": 5
}
